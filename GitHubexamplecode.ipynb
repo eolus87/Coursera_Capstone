{
  "nbformat": 4,
  "nbformat_minor": 0,
  "metadata": {
    "colab": {
      "name": "GitHubexamplecode",
      "provenance": [],
      "toc_visible": true,
      "authorship_tag": "ABX9TyO9E6EAJS4o8mDh/QgBkZmK",
      "include_colab_link": true
    },
    "kernelspec": {
      "name": "python3",
      "display_name": "Python 3"
    }
  },
  "cells": [
    {
      "cell_type": "markdown",
      "metadata": {
        "id": "view-in-github",
        "colab_type": "text"
      },
      "source": [
        "<a href=\"https://colab.research.google.com/github/eolus87/Coursera_Capstone/blob/master/GitHubexamplecode.ipynb\" target=\"_parent\"><img src=\"https://colab.research.google.com/assets/colab-badge.svg\" alt=\"Open In Colab\"/></a>"
      ]
    },
    {
      "cell_type": "markdown",
      "metadata": {
        "id": "g-rX4L_BMopD",
        "colab_type": "text"
      },
      "source": [
        "## Code Sharing example\n",
        "This code will be used to initialize an ipython environment and github and sync them. Instructions for this assignment can be found on [here](https://www.coursera.org/learn/applied-data-science-capstone/peer/HVJQt/capstone-project-notebook/submit)  \n",
        "To sync between this notebook and Github I have followed the links below:  \n",
        "- [Setting up GitHub](https://medium.com/@aklson_DS/how-to-properly-setup-your-github-repository-windows-version-ea596b398b)\n",
        "- [Pushing a notebook to GitHub](https://dataplatform.cloud.ibm.com/docs/content/wsj/analyze-data/github-integration.html)  \n",
        "UPDATE: I couldn't make it work in IBM platform so I went to Google Colab. I used the following link to publish my work on GitHub:  \n",
        "- [Save Colab notebooks to GitHub](https://cloud.google.com/ai-platform/notebooks/docs/save-to-github)"
      ]
    },
    {
      "cell_type": "code",
      "metadata": {
        "id": "QQmusqqbMgys",
        "colab_type": "code",
        "colab": {}
      },
      "source": [
        "import pandas as pd\n",
        "import numpy as np"
      ],
      "execution_count": 0,
      "outputs": []
    },
    {
      "cell_type": "code",
      "metadata": {
        "id": "cd8ihbm5MsoH",
        "colab_type": "code",
        "colab": {
          "base_uri": "https://localhost:8080/",
          "height": 34
        },
        "outputId": "eb83b9c1-e066-4bd8-cdd9-fbedc2248cda"
      },
      "source": [
        "print('Hello Capstone Project Course!')"
      ],
      "execution_count": 2,
      "outputs": [
        {
          "output_type": "stream",
          "text": [
            "Hello Capstone Project Course!\n"
          ],
          "name": "stdout"
        }
      ]
    },
    {
      "cell_type": "code",
      "metadata": {
        "id": "IWKqBXMwO3pt",
        "colab_type": "code",
        "colab": {}
      },
      "source": [
        ""
      ],
      "execution_count": 0,
      "outputs": []
    }
  ]
}