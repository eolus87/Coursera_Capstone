{
  "nbformat": 4,
  "nbformat_minor": 0,
  "metadata": {
    "colab": {
      "name": "Web_scraping_Toronto_neighbourhoods_2ndpart.ipynb",
      "provenance": [],
      "collapsed_sections": [],
      "toc_visible": true,
      "authorship_tag": "ABX9TyMhyLq/HkwJMiALfAhZhKcP",
      "include_colab_link": true
    },
    "kernelspec": {
      "name": "python3",
      "display_name": "Python 3"
    }
  },
  "cells": [
    {
      "cell_type": "markdown",
      "metadata": {
        "id": "view-in-github",
        "colab_type": "text"
      },
      "source": [
        "<a href=\"https://colab.research.google.com/github/eolus87/Coursera_Capstone/blob/master/Web_scraping_Toronto_neighbourhoods_2ndpart.ipynb\" target=\"_parent\"><img src=\"https://colab.research.google.com/assets/colab-badge.svg\" alt=\"Open In Colab\"/></a>"
      ]
    },
    {
      "cell_type": "markdown",
      "metadata": {
        "id": "f9vmQgrXCksP",
        "colab_type": "text"
      },
      "source": [
        "# Web scraping Neighborhood data from Wikipedia about Toronto\n",
        "This code has been developed for Coursera course: \"Applied Data Science Capstone\", following the instructions on [Segmenting and Clustering Neighborhoods in Toronto](https://www.coursera.org/learn/applied-data-science-capstone/peer/I1bDq/segmenting-and-clustering-neighborhoods-in-toronto/submit)\n",
        "\n",
        "References used are:\n",
        "- [How To Web Scrape Wikipedia Using Python, Urllib, Beautiful Soup and Pandas](https://simpleanalytical.com/how-to-web-scrape-wikipedia-python-urllib-beautiful-soup-pandas)\n",
        "\n",
        "Nicolas Gutierrez  \n",
        "UK, 17th May 2020"
      ]
    },
    {
      "cell_type": "markdown",
      "metadata": {
        "id": "tS0gwW1KdeSs",
        "colab_type": "text"
      },
      "source": [
        "## From Web to a dataframe"
      ]
    },
    {
      "cell_type": "markdown",
      "metadata": {
        "id": "wO4YkfCvDupE",
        "colab_type": "text"
      },
      "source": [
        "### Importing needed libraries\n",
        "- [**urllib.request**](https://docs.python.org/3.0/library/urllib.request.html)\n",
        "- [**BeautifulSoup**](https://www.crummy.com/software/BeautifulSoup/bs4/doc/)\n",
        "- [**Pandas**](https://pandas.pydata.org/) (The ubiquitous)\n",
        "\n"
      ]
    },
    {
      "cell_type": "code",
      "metadata": {
        "id": "aoph1JMnB6eq",
        "colab_type": "code",
        "outputId": "a8b20a04-cf31-4432-f567-c35ed38c409a",
        "colab": {
          "base_uri": "https://localhost:8080/",
          "height": 34
        }
      },
      "source": [
        "import urllib.request\n",
        "from bs4 import BeautifulSoup\n",
        "import pandas as pd\n",
        "\n",
        "print(\"Libraries needed imported!\")"
      ],
      "execution_count": 1,
      "outputs": [
        {
          "output_type": "stream",
          "text": [
            "Libraries needed imported!\n"
          ],
          "name": "stdout"
        }
      ]
    },
    {
      "cell_type": "markdown",
      "metadata": {
        "id": "FeYnpf04EzAz",
        "colab_type": "text"
      },
      "source": [
        "### Variables initialization, web request and data checking"
      ]
    },
    {
      "cell_type": "code",
      "metadata": {
        "id": "sskvm08AEwsA",
        "colab_type": "code",
        "colab": {}
      },
      "source": [
        "# As indicated in the course project instructions, the URL is the following\n",
        "url  = \"https://en.wikipedia.org/wiki/List_of_postal_codes_of_Canada:_M\"\n",
        "# We make the call\n",
        "page =  urllib.request.urlopen(url)\n",
        "# Now it is the turn of Beautiful Soup to parse the HTML code we got\n",
        "soup = BeautifulSoup(page, \"lxml\")\n",
        "#print(soup.prettify())\n",
        "# I am not displaying the soup.prettify() field above because it is too long, but \n",
        "# it can be uncommented if needed"
      ],
      "execution_count": 0,
      "outputs": []
    },
    {
      "cell_type": "code",
      "metadata": {
        "id": "eUUIUnpYGYul",
        "colab_type": "code",
        "colab": {}
      },
      "source": [
        "# Now we have the HTML code, we can have a look, and the table we are intestrested in begins with \"<table class=\"wikitable sortable\">\".\n",
        "all_tables   = soup.find_all(\"table\")\n",
        "#all_tables\n",
        "# I am not displaying the all_tables object above because it is too long, but \n",
        "# it can be uncommented if needed"
      ],
      "execution_count": 0,
      "outputs": []
    },
    {
      "cell_type": "code",
      "metadata": {
        "id": "f3ogyMg3Gtck",
        "colab_type": "code",
        "colab": {}
      },
      "source": [
        "# Let's filter the obtained tables list and get the only table we want\n",
        "table_wanted = soup.find(\"table\", class_ = \"wikitable sortable\")\n",
        "#table_wanted\n",
        "# I am not displaying the table_watend object above because it is too long, but \n",
        "# it can be uncommented if needed"
      ],
      "execution_count": 0,
      "outputs": []
    },
    {
      "cell_type": "markdown",
      "metadata": {
        "id": "p__i9EM_JRWH",
        "colab_type": "text"
      },
      "source": [
        "### Extracting and cleaning data\n",
        "First we will find the table headers. They all have this format \"\\<th>Header\\</th>\" (This step is just for fun, because we assign the table headers manually afterwards)."
      ]
    },
    {
      "cell_type": "code",
      "metadata": {
        "id": "oq6Fjaz1HVcF",
        "colab_type": "code",
        "outputId": "dc20331e-0b1e-47c8-ac49-91751fdb8985",
        "colab": {
          "base_uri": "https://localhost:8080/",
          "height": 34
        }
      },
      "source": [
        "# Initialize the list that will contain the headers\n",
        "table_headers = []\n",
        "\n",
        "# Find all headers in the table\n",
        "thheaders = table_wanted.find_all('th')\n",
        "\n",
        "# Include all headers in table_headers. With 'find' method we separate the text \n",
        "# from the HTML syntax. Then we get the names but finishing with '\\n' jump line \n",
        "# character so we remove it by cropping the vector from [0:-1]\n",
        "for i in range(len(thheaders)):\n",
        "  table_headers.append(thheaders[i].find(text=True)[0:-1])\n",
        "\n",
        "# Printing the headers\n",
        "print(table_headers)"
      ],
      "execution_count": 5,
      "outputs": [
        {
          "output_type": "stream",
          "text": [
            "['Postal Code', 'Borough', 'Neighborhood']\n"
          ],
          "name": "stdout"
        }
      ]
    },
    {
      "cell_type": "markdown",
      "metadata": {
        "id": "PEmxrd_2KyKU",
        "colab_type": "text"
      },
      "source": [
        "Next, the table data. Every line in the table is enclosed in \"\\<tr>DataRow\\</tr>\" and then every field is enclosed in \"\\<td>DataField\\</td>\" and we have three fields per row."
      ]
    },
    {
      "cell_type": "code",
      "metadata": {
        "id": "u9JGoaWDJb7E",
        "colab_type": "code",
        "outputId": "b45e5af7-01fe-4287-8dfb-f24a1dc7d825",
        "colab": {
          "base_uri": "https://localhost:8080/",
          "height": 190
        }
      },
      "source": [
        "# Initializing the lists that will contain the data\n",
        "postalcode   = []\n",
        "borough      = []\n",
        "neighborhood = []\n",
        "\n",
        "# We locate every field in the data (we need to crop the data again to remove \n",
        "# the jump line character)\n",
        "for row in table_wanted.find_all('tr'):\n",
        "  row_data = row.findAll('td')\n",
        "  if len(row_data) == 3:\n",
        "    postalcode.append(row_data[0].find(text=True)[0:-1])\n",
        "    borough.append(row_data[1].find(text=True)[0:-1])\n",
        "    neighborhood.append(row_data[2].find(text=True)[0:-1])\n",
        "\n",
        "# Printing the results of the fields\n",
        "print(\"Content of every column:\")\n",
        "print(\"Postal_code: {}\".format(postalcode))\n",
        "print(\"Borough: {}\".format(borough))\n",
        "print(\"Neighborhood: {}\\n\".format(neighborhood))\n",
        "\n",
        "# Printing the length of every column\n",
        "print(\"Size of every column:\")\n",
        "print(len(postalcode))\n",
        "print(len(borough))\n",
        "print(len(neighborhood))"
      ],
      "execution_count": 6,
      "outputs": [
        {
          "output_type": "stream",
          "text": [
            "Content of every column:\n",
            "Postal_code: ['M1A', 'M2A', 'M3A', 'M4A', 'M5A', 'M6A', 'M7A', 'M8A', 'M9A', 'M1B', 'M2B', 'M3B', 'M4B', 'M5B', 'M6B', 'M7B', 'M8B', 'M9B', 'M1C', 'M2C', 'M3C', 'M4C', 'M5C', 'M6C', 'M7C', 'M8C', 'M9C', 'M1E', 'M2E', 'M3E', 'M4E', 'M5E', 'M6E', 'M7E', 'M8E', 'M9E', 'M1G', 'M2G', 'M3G', 'M4G', 'M5G', 'M6G', 'M7G', 'M8G', 'M9G', 'M1H', 'M2H', 'M3H', 'M4H', 'M5H', 'M6H', 'M7H', 'M8H', 'M9H', 'M1J', 'M2J', 'M3J', 'M4J', 'M5J', 'M6J', 'M7J', 'M8J', 'M9J', 'M1K', 'M2K', 'M3K', 'M4K', 'M5K', 'M6K', 'M7K', 'M8K', 'M9K', 'M1L', 'M2L', 'M3L', 'M4L', 'M5L', 'M6L', 'M7L', 'M8L', 'M9L', 'M1M', 'M2M', 'M3M', 'M4M', 'M5M', 'M6M', 'M7M', 'M8M', 'M9M', 'M1N', 'M2N', 'M3N', 'M4N', 'M5N', 'M6N', 'M7N', 'M8N', 'M9N', 'M1P', 'M2P', 'M3P', 'M4P', 'M5P', 'M6P', 'M7P', 'M8P', 'M9P', 'M1R', 'M2R', 'M3R', 'M4R', 'M5R', 'M6R', 'M7R', 'M8R', 'M9R', 'M1S', 'M2S', 'M3S', 'M4S', 'M5S', 'M6S', 'M7S', 'M8S', 'M9S', 'M1T', 'M2T', 'M3T', 'M4T', 'M5T', 'M6T', 'M7T', 'M8T', 'M9T', 'M1V', 'M2V', 'M3V', 'M4V', 'M5V', 'M6V', 'M7V', 'M8V', 'M9V', 'M1W', 'M2W', 'M3W', 'M4W', 'M5W', 'M6W', 'M7W', 'M8W', 'M9W', 'M1X', 'M2X', 'M3X', 'M4X', 'M5X', 'M6X', 'M7X', 'M8X', 'M9X', 'M1Y', 'M2Y', 'M3Y', 'M4Y', 'M5Y', 'M6Y', 'M7Y', 'M8Y', 'M9Y', 'M1Z', 'M2Z', 'M3Z', 'M4Z', 'M5Z', 'M6Z', 'M7Z', 'M8Z', 'M9Z']\n",
            "Borough: ['Not assigned', 'Not assigned', 'North York', 'North York', 'Downtown Toronto', 'North York', 'Downtown Toronto', 'Not assigned', 'Etobicoke', 'Scarborough', 'Not assigned', 'North York', 'East York', 'Downtown Toronto', 'North York', 'Not assigned', 'Not assigned', 'Etobicoke', 'Scarborough', 'Not assigned', 'North York', 'East York', 'Downtown Toronto', 'York', 'Not assigned', 'Not assigned', 'Etobicoke', 'Scarborough', 'Not assigned', 'Not assigned', 'East Toronto', 'Downtown Toronto', 'York', 'Not assigned', 'Not assigned', 'Not assigned', 'Scarborough', 'Not assigned', 'Not assigned', 'East York', 'Downtown Toronto', 'Downtown Toronto', 'Not assigned', 'Not assigned', 'Not assigned', 'Scarborough', 'North York', 'North York', 'East York', 'Downtown Toronto', 'West Toronto', 'Not assigned', 'Not assigned', 'Not assigned', 'Scarborough', 'North York', 'North York', 'East York', 'Downtown Toronto', 'West Toronto', 'Not assigned', 'Not assigned', 'Not assigned', 'Scarborough', 'North York', 'North York', 'East Toronto', 'Downtown Toronto', 'West Toronto', 'Not assigned', 'Not assigned', 'Not assigned', 'Scarborough', 'North York', 'North York', 'East Toronto', 'Downtown Toronto', 'North York', 'Not assigned', 'Not assigned', 'North York', 'Scarborough', 'North York', 'North York', 'East Toronto', 'North York', 'York', 'Not assigned', 'Not assigned', 'North York', 'Scarborough', 'North York', 'North York', 'Central Toronto', 'Central Toronto', 'York', 'Not assigned', 'Not assigned', 'York', 'Scarborough', 'North York', 'Not assigned', 'Central Toronto', 'Central Toronto', 'West Toronto', 'Not assigned', 'Not assigned', 'Etobicoke', 'Scarborough', 'North York', 'Not assigned', 'Central Toronto', 'Central Toronto', 'West Toronto', 'Mississauga', 'Not assigned', 'Etobicoke', 'Scarborough', 'Not assigned', 'Not assigned', 'Central Toronto', 'Downtown Toronto', 'West Toronto', 'Not assigned', 'Not assigned', 'Not assigned', 'Scarborough', 'Not assigned', 'Not assigned', 'Central Toronto', 'Downtown Toronto', 'Not assigned', 'Not assigned', 'Not assigned', 'Not assigned', 'Scarborough', 'Not assigned', 'Not assigned', 'Central Toronto', 'Downtown Toronto', 'Not assigned', 'Not assigned', 'Etobicoke', 'Etobicoke', 'Scarborough', 'Not assigned', 'Not assigned', 'Downtown Toronto', 'Downtown Toronto', 'Not assigned', 'Not assigned', 'Etobicoke', 'Etobicoke', 'Scarborough', 'Not assigned', 'Not assigned', 'Downtown Toronto', 'Downtown Toronto', 'Not assigned', 'Not assigned', 'Etobicoke', 'Not assigned', 'Not assigned', 'Not assigned', 'Not assigned', 'Downtown Toronto', 'Not assigned', 'Not assigned', 'East Toronto', 'Etobicoke', 'Not assigned', 'Not assigned', 'Not assigned', 'Not assigned', 'Not assigned', 'Not assigned', 'Not assigned', 'Not assigned', 'Etobicoke', 'Not assigned']\n",
            "Neighborhood: ['', '', 'Parkwoods', 'Victoria Village', 'Regent Park, Harbourfront', 'Lawrence Manor, Lawrence Heights', \"Queen's Park, Ontario Provincial Government\", '', 'Islington Avenue', 'Malvern, Rouge', '', 'Don Mills', 'Parkview Hill, Woodbine Gardens', 'Garden District, Ryerson', 'Glencairn', '', '', 'West Deane Park, Princess Gardens, Martin Grove, Islington, Cloverdale', 'Rouge Hill, Port Union, Highland Creek', '', 'Don Mills', 'Woodbine Heights', 'St. James Town', 'Humewood-Cedarvale', '', '', 'Eringate, Bloordale Gardens, Old Burnhamthorpe, Markland Wood', 'Guildwood, Morningside, West Hill', '', '', 'The Beaches', 'Berczy Park', 'Caledonia-Fairbanks', '', '', '', 'Woburn', '', '', 'Leaside', 'Central Bay Street', 'Christie', '', '', '', 'Cedarbrae', 'Hillcrest Village', 'Bathurst Manor, Wilson Heights, Downsview North', 'Thorncliffe Park', 'Richmond, Adelaide, King', 'Dufferin, Dovercourt Village', '', '', '', 'Scarborough Village', 'Fairview, Henry Farm, Oriole', 'Northwood Park, York University', 'East Toronto', 'Harbourfront East, Union Station, Toronto Islands', 'Little Portugal, Trinity', '', '', '', 'Kennedy Park, Ionview, East Birchmount Park', 'Bayview Village', 'Downsview', 'The Danforth West, Riverdale', 'Toronto Dominion Centre, Design Exchange', 'Brockton, Parkdale Village, Exhibition Place', '', '', '', 'Golden Mile, Clairlea, Oakridge', 'York Mills, Silver Hills', 'Downsview', 'India Bazaar, The Beaches West', 'Commerce Court, Victoria Hotel', 'North Park, Maple Leaf Park, Upwood Park', '', '', 'Humber Summit', 'Cliffside, Cliffcrest, Scarborough Village West', 'Willowdale, Newtonbrook', 'Downsview', 'Studio District', 'Bedford Park, Lawrence Manor East', 'Del Ray, Mount Dennis, Keelsdale and Silverthorn', '', '', 'Humberlea, Emery', 'Birch Cliff, Cliffside West', 'Willowdale', 'Downsview', 'Lawrence Park', 'Roselawn', 'Runnymede, The Junction North', '', '', 'Weston', 'Dorset Park, Wexford Heights, Scarborough Town Centre', 'York Mills West', '', 'Davisville North', 'Forest Hill North & West', 'High Park, The Junction South', '', '', 'Westmount', 'Wexford, Maryvale', 'Willowdale', '', 'North Toronto West', 'The Annex, North Midtown, Yorkville', 'Parkdale, Roncesvalles', 'Canada Post Gateway Processing Centre', '', 'Kingsview Village, St. Phillips, Martin Grove Gardens, Richview Gardens', 'Agincourt', '', '', 'Davisville', 'University of Toronto, Harbord', 'Runnymede, Swansea', '', '', '', \"Clarks Corners, Tam O'Shanter, Sullivan\", '', '', 'Moore Park, Summerhill East', 'Kensington Market, Chinatown, Grange Park', '', '', '', '', \"Milliken, Agincourt North, Steeles East, L'Amoreaux East\", '', '', 'Summerhill West, Rathnelly, South Hill, Forest Hill SE, Deer Park', 'CN Tower, King and Spadina, Railway Lands, Harbourfront West, Bathurst Quay, South Niagara, Island airport', '', '', 'New Toronto, Mimico South, Humber Bay Shores', 'South Steeles, Silverstone, Humbergate, Jamestown, Mount Olive, Beaumond Heights, Thistletown, Albion Gardens', \"Steeles West, L'Amoreaux West\", '', '', 'Rosedale', 'Stn A PO Boxes', '', '', 'Alderwood, Long Branch', 'Northwest', 'Upper Rouge', '', '', 'St. James Town, Cabbagetown', 'First Canadian Place, Underground city', '', '', 'The Kingsway, Montgomery Road, Old Mill North', '', '', '', '', 'Church and Wellesley', '', '', 'Business reply mail Processing Centre', \"Old Mill South, King's Mill Park, Sunnylea, Humber Bay, Mimico NE, The Queensway East, Royal York South East, Kingsway Park South East\", '', '', '', '', '', '', '', '', 'Mimico NW, The Queensway West, South of Bloor, Kingsway Park South West, Royal York South West', '']\n",
            "\n",
            "Size of every column:\n",
            "180\n",
            "180\n",
            "180\n"
          ],
          "name": "stdout"
        }
      ]
    },
    {
      "cell_type": "markdown",
      "metadata": {
        "id": "YVlYu4HeMlmz",
        "colab_type": "text"
      },
      "source": [
        "### DataFrame and final cleaning\n",
        "Now we will create a Pandas Dataframe and do the last stage of cleaning in Pandas"
      ]
    },
    {
      "cell_type": "code",
      "metadata": {
        "id": "6FF9VPbVMwpb",
        "colab_type": "code",
        "outputId": "1a2d57a9-46e3-4ad1-a858-dc6a7164581c",
        "colab": {
          "base_uri": "https://localhost:8080/",
          "height": 419
        }
      },
      "source": [
        "# Initializing the data frame\n",
        "table_dataframe                 = pd.DataFrame(postalcode,columns=['PostalCode'])\n",
        "# Adding the rest of columns\n",
        "table_dataframe['Borough']      = borough\n",
        "table_dataframe['Neighborhood'] = neighborhood\n",
        "table_dataframe"
      ],
      "execution_count": 7,
      "outputs": [
        {
          "output_type": "execute_result",
          "data": {
            "text/html": [
              "<div>\n",
              "<style scoped>\n",
              "    .dataframe tbody tr th:only-of-type {\n",
              "        vertical-align: middle;\n",
              "    }\n",
              "\n",
              "    .dataframe tbody tr th {\n",
              "        vertical-align: top;\n",
              "    }\n",
              "\n",
              "    .dataframe thead th {\n",
              "        text-align: right;\n",
              "    }\n",
              "</style>\n",
              "<table border=\"1\" class=\"dataframe\">\n",
              "  <thead>\n",
              "    <tr style=\"text-align: right;\">\n",
              "      <th></th>\n",
              "      <th>PostalCode</th>\n",
              "      <th>Borough</th>\n",
              "      <th>Neighborhood</th>\n",
              "    </tr>\n",
              "  </thead>\n",
              "  <tbody>\n",
              "    <tr>\n",
              "      <th>0</th>\n",
              "      <td>M1A</td>\n",
              "      <td>Not assigned</td>\n",
              "      <td></td>\n",
              "    </tr>\n",
              "    <tr>\n",
              "      <th>1</th>\n",
              "      <td>M2A</td>\n",
              "      <td>Not assigned</td>\n",
              "      <td></td>\n",
              "    </tr>\n",
              "    <tr>\n",
              "      <th>2</th>\n",
              "      <td>M3A</td>\n",
              "      <td>North York</td>\n",
              "      <td>Parkwoods</td>\n",
              "    </tr>\n",
              "    <tr>\n",
              "      <th>3</th>\n",
              "      <td>M4A</td>\n",
              "      <td>North York</td>\n",
              "      <td>Victoria Village</td>\n",
              "    </tr>\n",
              "    <tr>\n",
              "      <th>4</th>\n",
              "      <td>M5A</td>\n",
              "      <td>Downtown Toronto</td>\n",
              "      <td>Regent Park, Harbourfront</td>\n",
              "    </tr>\n",
              "    <tr>\n",
              "      <th>...</th>\n",
              "      <td>...</td>\n",
              "      <td>...</td>\n",
              "      <td>...</td>\n",
              "    </tr>\n",
              "    <tr>\n",
              "      <th>175</th>\n",
              "      <td>M5Z</td>\n",
              "      <td>Not assigned</td>\n",
              "      <td></td>\n",
              "    </tr>\n",
              "    <tr>\n",
              "      <th>176</th>\n",
              "      <td>M6Z</td>\n",
              "      <td>Not assigned</td>\n",
              "      <td></td>\n",
              "    </tr>\n",
              "    <tr>\n",
              "      <th>177</th>\n",
              "      <td>M7Z</td>\n",
              "      <td>Not assigned</td>\n",
              "      <td></td>\n",
              "    </tr>\n",
              "    <tr>\n",
              "      <th>178</th>\n",
              "      <td>M8Z</td>\n",
              "      <td>Etobicoke</td>\n",
              "      <td>Mimico NW, The Queensway West, South of Bloor,...</td>\n",
              "    </tr>\n",
              "    <tr>\n",
              "      <th>179</th>\n",
              "      <td>M9Z</td>\n",
              "      <td>Not assigned</td>\n",
              "      <td></td>\n",
              "    </tr>\n",
              "  </tbody>\n",
              "</table>\n",
              "<p>180 rows × 3 columns</p>\n",
              "</div>"
            ],
            "text/plain": [
              "    PostalCode  ...                                       Neighborhood\n",
              "0          M1A  ...                                                   \n",
              "1          M2A  ...                                                   \n",
              "2          M3A  ...                                          Parkwoods\n",
              "3          M4A  ...                                   Victoria Village\n",
              "4          M5A  ...                          Regent Park, Harbourfront\n",
              "..         ...  ...                                                ...\n",
              "175        M5Z  ...                                                   \n",
              "176        M6Z  ...                                                   \n",
              "177        M7Z  ...                                                   \n",
              "178        M8Z  ...  Mimico NW, The Queensway West, South of Bloor,...\n",
              "179        M9Z  ...                                                   \n",
              "\n",
              "[180 rows x 3 columns]"
            ]
          },
          "metadata": {
            "tags": []
          },
          "execution_count": 7
        }
      ]
    },
    {
      "cell_type": "markdown",
      "metadata": {
        "id": "zYZn-MtpOW3b",
        "colab_type": "text"
      },
      "source": [
        "Next, the steps required by the assignment:\n",
        "1. Ignore cells with a borough that is \"Not assigned\"\n",
        "2. No PostalCode will be duplicated, combine cells with the same PostalCode\n",
        "3. If a cell has a borough but a Not assigned neighborhood, then the neighborhood will be the same as the borough."
      ]
    },
    {
      "cell_type": "code",
      "metadata": {
        "id": "LRXzMEMoO5RS",
        "colab_type": "code",
        "outputId": "9670c4be-5150-4638-a502-8daacbe3a859",
        "colab": {
          "base_uri": "https://localhost:8080/",
          "height": 187
        }
      },
      "source": [
        "#1. Removing (ignoring) rows with Borough \"Not assigned\"\n",
        "table_dataframe = table_dataframe[table_dataframe['Borough']!=\"Not assigned\"]\n",
        "print(\"DataFrame shape: {}\\n\".format(table_dataframe.shape))\n",
        "\n",
        "# Sanity check about datatypes\n",
        "print(table_dataframe.dtypes)\n",
        "\n",
        "#2. Joining Neighborhoods as indicated in the assignment instructions\n",
        "print(table_dataframe[table_dataframe['PostalCode'].isin(['M5A'])])\n",
        "table_dataframe = table_dataframe.groupby(['PostalCode','Borough'], axis = 0)['Neighborhood'].apply(lambda x: ', '.join(x)).reset_index()\n",
        "print(table_dataframe[table_dataframe['PostalCode'].isin(['M5A'])])\n",
        "# NOTE: PostalCodes are not duplicated in wikipedia page. Actually the table is \n",
        "# grouped by PostalCodes so there is no need to go thorugh the group by process\n",
        "\n",
        "#3. Looking and filling empty neighborhood\n",
        "for i in range(len(table_dataframe)):\n",
        "  if table_dataframe['Neighborhood'][i] == '':\n",
        "    print(table_dataframe['Borough'][i])\n",
        "    table_dataframe['Neighborhood'][i] = table_dataframe['Borough'][i]\n",
        "# NOTE: There was no changes in the step 3. It seems that empty neighborhoods are\n",
        "# linked to \"Not Assigned\" Boroughs, so this step was done with step 1."
      ],
      "execution_count": 8,
      "outputs": [
        {
          "output_type": "stream",
          "text": [
            "DataFrame shape: (103, 3)\n",
            "\n",
            "PostalCode      object\n",
            "Borough         object\n",
            "Neighborhood    object\n",
            "dtype: object\n",
            "  PostalCode           Borough               Neighborhood\n",
            "4        M5A  Downtown Toronto  Regent Park, Harbourfront\n",
            "   PostalCode           Borough               Neighborhood\n",
            "53        M5A  Downtown Toronto  Regent Park, Harbourfront\n"
          ],
          "name": "stdout"
        }
      ]
    },
    {
      "cell_type": "markdown",
      "metadata": {
        "id": "-CuoTk4kZWXh",
        "colab_type": "text"
      },
      "source": [
        "Finally, we print the Data frame and the shape"
      ]
    },
    {
      "cell_type": "code",
      "metadata": {
        "id": "HzzcZXT2YUUY",
        "colab_type": "code",
        "outputId": "8086da25-6b77-41b4-9d73-b7885b83440a",
        "colab": {
          "base_uri": "https://localhost:8080/",
          "height": 419
        }
      },
      "source": [
        "#Printing the dataframe\n",
        "table_dataframe"
      ],
      "execution_count": 9,
      "outputs": [
        {
          "output_type": "execute_result",
          "data": {
            "text/html": [
              "<div>\n",
              "<style scoped>\n",
              "    .dataframe tbody tr th:only-of-type {\n",
              "        vertical-align: middle;\n",
              "    }\n",
              "\n",
              "    .dataframe tbody tr th {\n",
              "        vertical-align: top;\n",
              "    }\n",
              "\n",
              "    .dataframe thead th {\n",
              "        text-align: right;\n",
              "    }\n",
              "</style>\n",
              "<table border=\"1\" class=\"dataframe\">\n",
              "  <thead>\n",
              "    <tr style=\"text-align: right;\">\n",
              "      <th></th>\n",
              "      <th>PostalCode</th>\n",
              "      <th>Borough</th>\n",
              "      <th>Neighborhood</th>\n",
              "    </tr>\n",
              "  </thead>\n",
              "  <tbody>\n",
              "    <tr>\n",
              "      <th>0</th>\n",
              "      <td>M1B</td>\n",
              "      <td>Scarborough</td>\n",
              "      <td>Malvern, Rouge</td>\n",
              "    </tr>\n",
              "    <tr>\n",
              "      <th>1</th>\n",
              "      <td>M1C</td>\n",
              "      <td>Scarborough</td>\n",
              "      <td>Rouge Hill, Port Union, Highland Creek</td>\n",
              "    </tr>\n",
              "    <tr>\n",
              "      <th>2</th>\n",
              "      <td>M1E</td>\n",
              "      <td>Scarborough</td>\n",
              "      <td>Guildwood, Morningside, West Hill</td>\n",
              "    </tr>\n",
              "    <tr>\n",
              "      <th>3</th>\n",
              "      <td>M1G</td>\n",
              "      <td>Scarborough</td>\n",
              "      <td>Woburn</td>\n",
              "    </tr>\n",
              "    <tr>\n",
              "      <th>4</th>\n",
              "      <td>M1H</td>\n",
              "      <td>Scarborough</td>\n",
              "      <td>Cedarbrae</td>\n",
              "    </tr>\n",
              "    <tr>\n",
              "      <th>...</th>\n",
              "      <td>...</td>\n",
              "      <td>...</td>\n",
              "      <td>...</td>\n",
              "    </tr>\n",
              "    <tr>\n",
              "      <th>98</th>\n",
              "      <td>M9N</td>\n",
              "      <td>York</td>\n",
              "      <td>Weston</td>\n",
              "    </tr>\n",
              "    <tr>\n",
              "      <th>99</th>\n",
              "      <td>M9P</td>\n",
              "      <td>Etobicoke</td>\n",
              "      <td>Westmount</td>\n",
              "    </tr>\n",
              "    <tr>\n",
              "      <th>100</th>\n",
              "      <td>M9R</td>\n",
              "      <td>Etobicoke</td>\n",
              "      <td>Kingsview Village, St. Phillips, Martin Grove ...</td>\n",
              "    </tr>\n",
              "    <tr>\n",
              "      <th>101</th>\n",
              "      <td>M9V</td>\n",
              "      <td>Etobicoke</td>\n",
              "      <td>South Steeles, Silverstone, Humbergate, Jamest...</td>\n",
              "    </tr>\n",
              "    <tr>\n",
              "      <th>102</th>\n",
              "      <td>M9W</td>\n",
              "      <td>Etobicoke</td>\n",
              "      <td>Northwest</td>\n",
              "    </tr>\n",
              "  </tbody>\n",
              "</table>\n",
              "<p>103 rows × 3 columns</p>\n",
              "</div>"
            ],
            "text/plain": [
              "    PostalCode      Borough                                       Neighborhood\n",
              "0          M1B  Scarborough                                     Malvern, Rouge\n",
              "1          M1C  Scarborough             Rouge Hill, Port Union, Highland Creek\n",
              "2          M1E  Scarborough                  Guildwood, Morningside, West Hill\n",
              "3          M1G  Scarborough                                             Woburn\n",
              "4          M1H  Scarborough                                          Cedarbrae\n",
              "..         ...          ...                                                ...\n",
              "98         M9N         York                                             Weston\n",
              "99         M9P    Etobicoke                                          Westmount\n",
              "100        M9R    Etobicoke  Kingsview Village, St. Phillips, Martin Grove ...\n",
              "101        M9V    Etobicoke  South Steeles, Silverstone, Humbergate, Jamest...\n",
              "102        M9W    Etobicoke                                          Northwest\n",
              "\n",
              "[103 rows x 3 columns]"
            ]
          },
          "metadata": {
            "tags": []
          },
          "execution_count": 9
        }
      ]
    },
    {
      "cell_type": "code",
      "metadata": {
        "id": "2cPTTDY8YU2w",
        "colab_type": "code",
        "outputId": "9361b450-bd01-438c-c03b-5286885a4187",
        "colab": {
          "base_uri": "https://localhost:8080/",
          "height": 34
        }
      },
      "source": [
        "# Printing the shape of the dataframe\n",
        "table_dataframe.shape"
      ],
      "execution_count": 10,
      "outputs": [
        {
          "output_type": "execute_result",
          "data": {
            "text/plain": [
              "(103, 3)"
            ]
          },
          "metadata": {
            "tags": []
          },
          "execution_count": 10
        }
      ]
    },
    {
      "cell_type": "markdown",
      "metadata": {
        "id": "kt59ERsPdk2Q",
        "colab_type": "text"
      },
      "source": [
        "## Including Latitude and Longitude data "
      ]
    },
    {
      "cell_type": "markdown",
      "metadata": {
        "id": "R61V_qgYdqJY",
        "colab_type": "text"
      },
      "source": [
        "### Importing the needed library"
      ]
    },
    {
      "cell_type": "code",
      "metadata": {
        "id": "a-Yi8ph3d2gf",
        "colab_type": "code",
        "colab": {
          "base_uri": "https://localhost:8080/",
          "height": 34
        },
        "outputId": "4f3122f9-8d69-45a7-9dde-28317ab7a532"
      },
      "source": [
        "# Google colab doesn't have geocoder by default\n",
        "!pip install -q geocoder\n",
        "# import geocoder\n",
        "import geocoder\n",
        "# import time for sleeping between calls to geocoder \n",
        "import time\n",
        "\n",
        "print('All libraries installed and imported!')"
      ],
      "execution_count": 11,
      "outputs": [
        {
          "output_type": "stream",
          "text": [
            "All libraries installed and imported!\n"
          ],
          "name": "stdout"
        }
      ]
    },
    {
      "cell_type": "markdown",
      "metadata": {
        "id": "DiWc9Bz-eDmI",
        "colab_type": "text"
      },
      "source": [
        "### Variables initialization and latitude retrieval\n",
        "In this section I tried first retrieving the coordinates from geocoder, but it was not possible (see the code below), so I just loaded the [csv](https://cocl.us/Geospatial_data) indicated by the course organizers."
      ]
    },
    {
      "cell_type": "code",
      "metadata": {
        "id": "JRxZ68vkeDMp",
        "colab_type": "code",
        "colab": {}
      },
      "source": [
        "# I tried the code below and after one hour it doesn't even timed out, so in the \n",
        "# next cell I will load the csv file with the latitues and longitudes provided by \n",
        "# the course organizers.\n",
        "\n",
        "# Initializing the latitude and longitude vectors\n",
        "# latitude  = []\n",
        "# longitude = []\n",
        "\n",
        "# for i in range(len(table_dataframe)):\n",
        "#   # initialize your variable to None\n",
        "#   lat_lng_coords = None\n",
        "#   # loop until you get the coordinates\n",
        "#   while(lat_lng_coords is None):\n",
        "#     g = geocoder.google('{}, Toronto, Ontario'.format(table_dataframe['PostalCode'][i]))\n",
        "#     lat_lng_coords = g.latlng\n",
        "#     time.sleep(0.1)\n",
        "#   latitude.append(lat_lng_coords[0]) \n",
        "#   longitude.append(lat_lng_coords[1])"
      ],
      "execution_count": 0,
      "outputs": []
    },
    {
      "cell_type": "code",
      "metadata": {
        "id": "zXvt5NYthbyN",
        "colab_type": "code",
        "colab": {}
      },
      "source": [
        "!wget -o geospatial.txt https://cocl.us/Geospatial_data"
      ],
      "execution_count": 0,
      "outputs": []
    },
    {
      "cell_type": "code",
      "metadata": {
        "id": "nxMb3K56xqJq",
        "colab_type": "code",
        "colab": {
          "base_uri": "https://localhost:8080/",
          "height": 419
        },
        "outputId": "dfc07560-4ad9-4778-d5d0-9bcff5d44a31"
      },
      "source": [
        "geospatial_data = pd.read_csv('Geospatial_data')\n",
        "geospatial_data"
      ],
      "execution_count": 14,
      "outputs": [
        {
          "output_type": "execute_result",
          "data": {
            "text/html": [
              "<div>\n",
              "<style scoped>\n",
              "    .dataframe tbody tr th:only-of-type {\n",
              "        vertical-align: middle;\n",
              "    }\n",
              "\n",
              "    .dataframe tbody tr th {\n",
              "        vertical-align: top;\n",
              "    }\n",
              "\n",
              "    .dataframe thead th {\n",
              "        text-align: right;\n",
              "    }\n",
              "</style>\n",
              "<table border=\"1\" class=\"dataframe\">\n",
              "  <thead>\n",
              "    <tr style=\"text-align: right;\">\n",
              "      <th></th>\n",
              "      <th>Postal Code</th>\n",
              "      <th>Latitude</th>\n",
              "      <th>Longitude</th>\n",
              "    </tr>\n",
              "  </thead>\n",
              "  <tbody>\n",
              "    <tr>\n",
              "      <th>0</th>\n",
              "      <td>M1B</td>\n",
              "      <td>43.806686</td>\n",
              "      <td>-79.194353</td>\n",
              "    </tr>\n",
              "    <tr>\n",
              "      <th>1</th>\n",
              "      <td>M1C</td>\n",
              "      <td>43.784535</td>\n",
              "      <td>-79.160497</td>\n",
              "    </tr>\n",
              "    <tr>\n",
              "      <th>2</th>\n",
              "      <td>M1E</td>\n",
              "      <td>43.763573</td>\n",
              "      <td>-79.188711</td>\n",
              "    </tr>\n",
              "    <tr>\n",
              "      <th>3</th>\n",
              "      <td>M1G</td>\n",
              "      <td>43.770992</td>\n",
              "      <td>-79.216917</td>\n",
              "    </tr>\n",
              "    <tr>\n",
              "      <th>4</th>\n",
              "      <td>M1H</td>\n",
              "      <td>43.773136</td>\n",
              "      <td>-79.239476</td>\n",
              "    </tr>\n",
              "    <tr>\n",
              "      <th>...</th>\n",
              "      <td>...</td>\n",
              "      <td>...</td>\n",
              "      <td>...</td>\n",
              "    </tr>\n",
              "    <tr>\n",
              "      <th>98</th>\n",
              "      <td>M9N</td>\n",
              "      <td>43.706876</td>\n",
              "      <td>-79.518188</td>\n",
              "    </tr>\n",
              "    <tr>\n",
              "      <th>99</th>\n",
              "      <td>M9P</td>\n",
              "      <td>43.696319</td>\n",
              "      <td>-79.532242</td>\n",
              "    </tr>\n",
              "    <tr>\n",
              "      <th>100</th>\n",
              "      <td>M9R</td>\n",
              "      <td>43.688905</td>\n",
              "      <td>-79.554724</td>\n",
              "    </tr>\n",
              "    <tr>\n",
              "      <th>101</th>\n",
              "      <td>M9V</td>\n",
              "      <td>43.739416</td>\n",
              "      <td>-79.588437</td>\n",
              "    </tr>\n",
              "    <tr>\n",
              "      <th>102</th>\n",
              "      <td>M9W</td>\n",
              "      <td>43.706748</td>\n",
              "      <td>-79.594054</td>\n",
              "    </tr>\n",
              "  </tbody>\n",
              "</table>\n",
              "<p>103 rows × 3 columns</p>\n",
              "</div>"
            ],
            "text/plain": [
              "    Postal Code   Latitude  Longitude\n",
              "0           M1B  43.806686 -79.194353\n",
              "1           M1C  43.784535 -79.160497\n",
              "2           M1E  43.763573 -79.188711\n",
              "3           M1G  43.770992 -79.216917\n",
              "4           M1H  43.773136 -79.239476\n",
              "..          ...        ...        ...\n",
              "98          M9N  43.706876 -79.518188\n",
              "99          M9P  43.696319 -79.532242\n",
              "100         M9R  43.688905 -79.554724\n",
              "101         M9V  43.739416 -79.588437\n",
              "102         M9W  43.706748 -79.594054\n",
              "\n",
              "[103 rows x 3 columns]"
            ]
          },
          "metadata": {
            "tags": []
          },
          "execution_count": 14
        }
      ]
    },
    {
      "cell_type": "markdown",
      "metadata": {
        "id": "r3AIC4x4fCpK",
        "colab_type": "text"
      },
      "source": [
        "### Adding the latitude and longitude to the dataframe"
      ]
    },
    {
      "cell_type": "code",
      "metadata": {
        "id": "fssSSP_DfGWV",
        "colab_type": "code",
        "colab": {
          "base_uri": "https://localhost:8080/",
          "height": 221
        },
        "outputId": "5cebd3f4-d92e-4ab7-f680-6db468175c3b"
      },
      "source": [
        "# Order table_dataframe by PostalCode \n",
        "table_dataframe.sort_values('PostalCode')\n",
        "print(table_dataframe.shape)\n",
        "table_dataframe.head()"
      ],
      "execution_count": 15,
      "outputs": [
        {
          "output_type": "stream",
          "text": [
            "(103, 3)\n"
          ],
          "name": "stdout"
        },
        {
          "output_type": "execute_result",
          "data": {
            "text/html": [
              "<div>\n",
              "<style scoped>\n",
              "    .dataframe tbody tr th:only-of-type {\n",
              "        vertical-align: middle;\n",
              "    }\n",
              "\n",
              "    .dataframe tbody tr th {\n",
              "        vertical-align: top;\n",
              "    }\n",
              "\n",
              "    .dataframe thead th {\n",
              "        text-align: right;\n",
              "    }\n",
              "</style>\n",
              "<table border=\"1\" class=\"dataframe\">\n",
              "  <thead>\n",
              "    <tr style=\"text-align: right;\">\n",
              "      <th></th>\n",
              "      <th>PostalCode</th>\n",
              "      <th>Borough</th>\n",
              "      <th>Neighborhood</th>\n",
              "    </tr>\n",
              "  </thead>\n",
              "  <tbody>\n",
              "    <tr>\n",
              "      <th>0</th>\n",
              "      <td>M1B</td>\n",
              "      <td>Scarborough</td>\n",
              "      <td>Malvern, Rouge</td>\n",
              "    </tr>\n",
              "    <tr>\n",
              "      <th>1</th>\n",
              "      <td>M1C</td>\n",
              "      <td>Scarborough</td>\n",
              "      <td>Rouge Hill, Port Union, Highland Creek</td>\n",
              "    </tr>\n",
              "    <tr>\n",
              "      <th>2</th>\n",
              "      <td>M1E</td>\n",
              "      <td>Scarborough</td>\n",
              "      <td>Guildwood, Morningside, West Hill</td>\n",
              "    </tr>\n",
              "    <tr>\n",
              "      <th>3</th>\n",
              "      <td>M1G</td>\n",
              "      <td>Scarborough</td>\n",
              "      <td>Woburn</td>\n",
              "    </tr>\n",
              "    <tr>\n",
              "      <th>4</th>\n",
              "      <td>M1H</td>\n",
              "      <td>Scarborough</td>\n",
              "      <td>Cedarbrae</td>\n",
              "    </tr>\n",
              "  </tbody>\n",
              "</table>\n",
              "</div>"
            ],
            "text/plain": [
              "  PostalCode      Borough                            Neighborhood\n",
              "0        M1B  Scarborough                          Malvern, Rouge\n",
              "1        M1C  Scarborough  Rouge Hill, Port Union, Highland Creek\n",
              "2        M1E  Scarborough       Guildwood, Morningside, West Hill\n",
              "3        M1G  Scarborough                                  Woburn\n",
              "4        M1H  Scarborough                               Cedarbrae"
            ]
          },
          "metadata": {
            "tags": []
          },
          "execution_count": 15
        }
      ]
    },
    {
      "cell_type": "code",
      "metadata": {
        "id": "3SkFSrZA0Yqi",
        "colab_type": "code",
        "colab": {
          "base_uri": "https://localhost:8080/",
          "height": 221
        },
        "outputId": "b6b46bf6-bb44-4ad5-8131-0c8dd133967c"
      },
      "source": [
        "# Order geolocation datafrarme by Postal Code\n",
        "geospatial_data.sort_values('Postal Code')\n",
        "print(table_dataframe.shape)\n",
        "geospatial_data.head()"
      ],
      "execution_count": 16,
      "outputs": [
        {
          "output_type": "stream",
          "text": [
            "(103, 3)\n"
          ],
          "name": "stdout"
        },
        {
          "output_type": "execute_result",
          "data": {
            "text/html": [
              "<div>\n",
              "<style scoped>\n",
              "    .dataframe tbody tr th:only-of-type {\n",
              "        vertical-align: middle;\n",
              "    }\n",
              "\n",
              "    .dataframe tbody tr th {\n",
              "        vertical-align: top;\n",
              "    }\n",
              "\n",
              "    .dataframe thead th {\n",
              "        text-align: right;\n",
              "    }\n",
              "</style>\n",
              "<table border=\"1\" class=\"dataframe\">\n",
              "  <thead>\n",
              "    <tr style=\"text-align: right;\">\n",
              "      <th></th>\n",
              "      <th>Postal Code</th>\n",
              "      <th>Latitude</th>\n",
              "      <th>Longitude</th>\n",
              "    </tr>\n",
              "  </thead>\n",
              "  <tbody>\n",
              "    <tr>\n",
              "      <th>0</th>\n",
              "      <td>M1B</td>\n",
              "      <td>43.806686</td>\n",
              "      <td>-79.194353</td>\n",
              "    </tr>\n",
              "    <tr>\n",
              "      <th>1</th>\n",
              "      <td>M1C</td>\n",
              "      <td>43.784535</td>\n",
              "      <td>-79.160497</td>\n",
              "    </tr>\n",
              "    <tr>\n",
              "      <th>2</th>\n",
              "      <td>M1E</td>\n",
              "      <td>43.763573</td>\n",
              "      <td>-79.188711</td>\n",
              "    </tr>\n",
              "    <tr>\n",
              "      <th>3</th>\n",
              "      <td>M1G</td>\n",
              "      <td>43.770992</td>\n",
              "      <td>-79.216917</td>\n",
              "    </tr>\n",
              "    <tr>\n",
              "      <th>4</th>\n",
              "      <td>M1H</td>\n",
              "      <td>43.773136</td>\n",
              "      <td>-79.239476</td>\n",
              "    </tr>\n",
              "  </tbody>\n",
              "</table>\n",
              "</div>"
            ],
            "text/plain": [
              "  Postal Code   Latitude  Longitude\n",
              "0         M1B  43.806686 -79.194353\n",
              "1         M1C  43.784535 -79.160497\n",
              "2         M1E  43.763573 -79.188711\n",
              "3         M1G  43.770992 -79.216917\n",
              "4         M1H  43.773136 -79.239476"
            ]
          },
          "metadata": {
            "tags": []
          },
          "execution_count": 16
        }
      ]
    },
    {
      "cell_type": "code",
      "metadata": {
        "id": "kA6emgsC0bts",
        "colab_type": "code",
        "colab": {
          "base_uri": "https://localhost:8080/",
          "height": 204
        },
        "outputId": "d56bd625-e641-4be9-82bb-70f55fb8ef64"
      },
      "source": [
        "# Loading Latitude and Longitude to the dataframe\n",
        "table_dataframe['Latitude']  = geospatial_data['Latitude']\n",
        "table_dataframe['Longitude'] = geospatial_data['Longitude']\n",
        "table_dataframe.head()"
      ],
      "execution_count": 17,
      "outputs": [
        {
          "output_type": "execute_result",
          "data": {
            "text/html": [
              "<div>\n",
              "<style scoped>\n",
              "    .dataframe tbody tr th:only-of-type {\n",
              "        vertical-align: middle;\n",
              "    }\n",
              "\n",
              "    .dataframe tbody tr th {\n",
              "        vertical-align: top;\n",
              "    }\n",
              "\n",
              "    .dataframe thead th {\n",
              "        text-align: right;\n",
              "    }\n",
              "</style>\n",
              "<table border=\"1\" class=\"dataframe\">\n",
              "  <thead>\n",
              "    <tr style=\"text-align: right;\">\n",
              "      <th></th>\n",
              "      <th>PostalCode</th>\n",
              "      <th>Borough</th>\n",
              "      <th>Neighborhood</th>\n",
              "      <th>Latitude</th>\n",
              "      <th>Longitude</th>\n",
              "    </tr>\n",
              "  </thead>\n",
              "  <tbody>\n",
              "    <tr>\n",
              "      <th>0</th>\n",
              "      <td>M1B</td>\n",
              "      <td>Scarborough</td>\n",
              "      <td>Malvern, Rouge</td>\n",
              "      <td>43.806686</td>\n",
              "      <td>-79.194353</td>\n",
              "    </tr>\n",
              "    <tr>\n",
              "      <th>1</th>\n",
              "      <td>M1C</td>\n",
              "      <td>Scarborough</td>\n",
              "      <td>Rouge Hill, Port Union, Highland Creek</td>\n",
              "      <td>43.784535</td>\n",
              "      <td>-79.160497</td>\n",
              "    </tr>\n",
              "    <tr>\n",
              "      <th>2</th>\n",
              "      <td>M1E</td>\n",
              "      <td>Scarborough</td>\n",
              "      <td>Guildwood, Morningside, West Hill</td>\n",
              "      <td>43.763573</td>\n",
              "      <td>-79.188711</td>\n",
              "    </tr>\n",
              "    <tr>\n",
              "      <th>3</th>\n",
              "      <td>M1G</td>\n",
              "      <td>Scarborough</td>\n",
              "      <td>Woburn</td>\n",
              "      <td>43.770992</td>\n",
              "      <td>-79.216917</td>\n",
              "    </tr>\n",
              "    <tr>\n",
              "      <th>4</th>\n",
              "      <td>M1H</td>\n",
              "      <td>Scarborough</td>\n",
              "      <td>Cedarbrae</td>\n",
              "      <td>43.773136</td>\n",
              "      <td>-79.239476</td>\n",
              "    </tr>\n",
              "  </tbody>\n",
              "</table>\n",
              "</div>"
            ],
            "text/plain": [
              "  PostalCode      Borough  ...   Latitude  Longitude\n",
              "0        M1B  Scarborough  ...  43.806686 -79.194353\n",
              "1        M1C  Scarborough  ...  43.784535 -79.160497\n",
              "2        M1E  Scarborough  ...  43.763573 -79.188711\n",
              "3        M1G  Scarborough  ...  43.770992 -79.216917\n",
              "4        M1H  Scarborough  ...  43.773136 -79.239476\n",
              "\n",
              "[5 rows x 5 columns]"
            ]
          },
          "metadata": {
            "tags": []
          },
          "execution_count": 17
        }
      ]
    }
  ]
}